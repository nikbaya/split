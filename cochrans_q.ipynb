{
 "cells": [
  {
   "cell_type": "code",
   "execution_count": 76,
   "metadata": {},
   "outputs": [],
   "source": [
    "import hail as hl\n",
    "import numpy as np\n",
    "import matplotlib.pyplot as plt\n",
    "from scipy import stats"
   ]
  },
  {
   "cell_type": "code",
   "execution_count": 11,
   "metadata": {},
   "outputs": [],
   "source": [
    "phen='50'\n",
    "batch='1'\n",
    "n_chunks=300\n",
    "variant_set='hm3'"
   ]
  },
  {
   "cell_type": "markdown",
   "metadata": {},
   "source": [
    "# 300 chunks"
   ]
  },
  {
   "cell_type": "code",
   "execution_count": 44,
   "metadata": {},
   "outputs": [],
   "source": [
    "gmt = hl.read_matrix_table('gs://nbaya/split/meta_split/ukb31063.'+variant_set+'_'+phen+'_gmt'+str(n_chunks)+'_batch_'+batch+'.mt') #used for n=150 and other phenotypes\n",
    "gmt = gmt.add_col_index()\n",
    "gmt = gmt.rename({'rsid':'SNP'})"
   ]
  },
  {
   "cell_type": "code",
   "execution_count": 45,
   "metadata": {},
   "outputs": [],
   "source": [
    "gmt1 = gmt.annotate_cols(label='A')\n",
    "gmt1 = gmt1.annotate_entries(w = 1/gmt1.standard_error **2)\n",
    "gmt2 = gmt1.group_cols_by(gmt1.label).aggregate(unnorm_meta_beta=hl.agg.sum(gmt1.beta * gmt1.w),\n",
    "                                            inv_se2 = hl.agg.sum(gmt1.w))\n",
    "mt = gmt2.make_table()\n",
    "mt = mt.annotate(x_w = mt['A.unnorm_meta_beta']/mt['A.inv_se2'])"
   ]
  },
  {
   "cell_type": "code",
   "execution_count": 60,
   "metadata": {},
   "outputs": [
    {
     "name": "stderr",
     "output_type": "stream",
     "text": [
      "2018-12-14 13:56:54 Hail: INFO: Coerced sorted dataset\n"
     ]
    },
    {
     "data": {
      "text/plain": [
       "(1089172, 1)"
      ]
     },
     "execution_count": 60,
     "metadata": {},
     "output_type": "execute_result"
    }
   ],
   "source": [
    "gmt2.count()"
   ]
  },
  {
   "cell_type": "code",
   "execution_count": 46,
   "metadata": {
    "scrolled": true
   },
   "outputs": [],
   "source": [
    "gmt1 = gmt1.key_rows_by('SNP')\n",
    "mt = mt.key_by('SNP')\n",
    "gmt1 = gmt1.annotate_rows(x_w = mt[gmt1.SNP]['x_w'])"
   ]
  },
  {
   "cell_type": "code",
   "execution_count": 50,
   "metadata": {},
   "outputs": [],
   "source": [
    "gmt_test = gmt1.annotate_entries(x_w_ent = gmt1.x_w)"
   ]
  },
  {
   "cell_type": "code",
   "execution_count": 48,
   "metadata": {},
   "outputs": [],
   "source": [
    "# gmt_test = gmt_test.group_cols_by(gmt_test.label).aggregate(Q_i = hl.agg.sum(gmt_test.w*(gmt_test.beta-gmt_test.x_w_ent)**2))"
   ]
  },
  {
   "cell_type": "code",
   "execution_count": 49,
   "metadata": {},
   "outputs": [
    {
     "name": "stdout",
     "output_type": "stream",
     "text": [
      "----------------------------------------\n",
      "Global fields:\n",
      "    None\n",
      "----------------------------------------\n",
      "Column fields:\n",
      "    'label': str \n",
      "----------------------------------------\n",
      "Row fields:\n",
      "    'locus': locus<GRCh37> \n",
      "    'alleles': array<str> \n",
      "    'SNP': str \n",
      "    'varid': str \n",
      "    'x_w': float64 \n",
      "----------------------------------------\n",
      "Entry fields:\n",
      "    'Q_i': float64 \n",
      "----------------------------------------\n",
      "Column key: ['label']\n",
      "Row key: ['SNP']\n",
      "----------------------------------------\n"
     ]
    }
   ],
   "source": [
    "gmt_test.describe()"
   ]
  },
  {
   "cell_type": "code",
   "execution_count": 51,
   "metadata": {},
   "outputs": [],
   "source": [
    "gmt_test = gmt_test.annotate_rows(Q_j = hl.agg.sum(gmt_test.w*(gmt_test.beta-gmt_test.x_w_ent)**2))"
   ]
  },
  {
   "cell_type": "code",
   "execution_count": 76,
   "metadata": {},
   "outputs": [
    {
     "name": "stderr",
     "output_type": "stream",
     "text": [
      "2018-12-13 19:38:28 Hail: INFO: wrote 1089172 items in 1000 partitions\n"
     ]
    }
   ],
   "source": [
    "gmt_test.rows().select('Q_j').write('gs://nbaya/split/cochrans_q.'+phen+'_batch_'+batch+'.ht')"
   ]
  },
  {
   "cell_type": "code",
   "execution_count": 52,
   "metadata": {},
   "outputs": [],
   "source": [
    "ht = gmt_test.rows().select('Q_j')"
   ]
  },
  {
   "cell_type": "code",
   "execution_count": 80,
   "metadata": {},
   "outputs": [],
   "source": [
    "import matplotlib.pyplot as plt\n",
    "import pandas as pd"
   ]
  },
  {
   "cell_type": "code",
   "execution_count": 82,
   "metadata": {},
   "outputs": [
    {
     "name": "stderr",
     "output_type": "stream",
     "text": [
      "2018-12-13 19:47:17 Hail: INFO: while writing:\n",
      "    gs://nbaya/split/cochrans_q.50_batch_1.tsv.bgz\n",
      "  merge time: 3.879s\n"
     ]
    }
   ],
   "source": [
    "ht.export('gs://nbaya/split/cochrans_q.'+phen+'_batch_'+batch+'.tsv.bgz')"
   ]
  },
  {
   "cell_type": "code",
   "execution_count": 53,
   "metadata": {},
   "outputs": [
    {
     "name": "stderr",
     "output_type": "stream",
     "text": [
      "2018-12-14 13:49:00 Hail: INFO: Ordering unsorted dataset with network shuffle\n",
      "2018-12-14 13:49:29 Hail: INFO: Ordering unsorted dataset with network shuffle\n"
     ]
    }
   ],
   "source": [
    "Q = ht.Q_j.take(10891720)\n"
   ]
  },
  {
   "cell_type": "code",
   "execution_count": 54,
   "metadata": {},
   "outputs": [
    {
     "data": {
      "text/plain": [
       "Text(0.5,1,'title')"
      ]
     },
     "execution_count": 54,
     "metadata": {},
     "output_type": "execute_result"
    },
    {
     "data": {
      "image/png": "[encoded data removed]",
      "text/plain": [
       "<Figure size 432x288 with 1 Axes>"
      ]
     },
     "metadata": {
      "needs_background": "light"
     },
     "output_type": "display_data"
    }
   ],
   "source": [
    "plt.hist(Q,20,density=True)\n",
    "plt.title('title')"
   ]
  },
  {
   "cell_type": "markdown",
   "metadata": {},
   "source": [
    "# 2 halves"
   ]
  },
  {
   "cell_type": "code",
   "execution_count": 61,
   "metadata": {},
   "outputs": [],
   "source": [
    "gmt = hl.read_matrix_table('gs://nbaya/split/meta_split/ukb31063.'+variant_set+'_'+phen+'_gmt'+str(n_chunks)+'_batch_'+batch+'.mt') #used for n=150 and other phenotypes\n",
    "gmt = gmt.add_col_index()\n",
    "gmt = gmt.rename({'rsid':'SNP'})"
   ]
  },
  {
   "cell_type": "code",
   "execution_count": 66,
   "metadata": {},
   "outputs": [],
   "source": [
    "pi = ['A']*int(n_chunks/2) + ['B']*int(n_chunks/2)\n",
    "#    randstate = np.random.RandomState(i) #OPTION 1: seed with split number (used for 20160 batch1)\n",
    "i = 1\n",
    "seed_id = int(batch+str(i).zfill(4)) #OPTION 2: create a seed_id unique to every split\n",
    "randstate = np.random.RandomState(seed_id) #OPTION 2: seed with seed_id\n",
    "randstate.shuffle(pi)\n",
    "gmt_shuf = gmt.annotate_cols(label = hl.literal(pi)[hl.int32(gmt.col_idx)])"
   ]
  },
  {
   "cell_type": "code",
   "execution_count": 67,
   "metadata": {},
   "outputs": [],
   "source": [
    "gmt_shuf = gmt_shuf.group_cols_by(gmt_shuf.label).aggregate(meta_beta=hl.agg.sum(gmt_shuf.beta / gmt_shuf.standard_error ** 2)/hl.agg.sum(1 / gmt_shuf.standard_error ** 2),\n",
    "                            meta_se = 1/hl.agg.sum(1 / gmt_shuf.standard_error ** 2))"
   ]
  },
  {
   "cell_type": "code",
   "execution_count": 69,
   "metadata": {},
   "outputs": [],
   "source": [
    "gmt1 = gmt_shuf.annotate_cols(label_new='A')\n",
    "gmt1 = gmt1.annotate_entries(w = 1/gmt1.meta_se**2)\n",
    "gmt2 = gmt1.group_cols_by(gmt1.label_new).aggregate(unnorm_meta_beta=hl.agg.sum(gmt1.meta_beta * gmt1.w),\n",
    "                                            inv_se2 = hl.agg.sum(gmt1.w))\n",
    "mt = gmt2.make_table()\n",
    "mt = mt.annotate(x_w = mt['A.unnorm_meta_beta']/mt['A.inv_se2'])"
   ]
  },
  {
   "cell_type": "code",
   "execution_count": 70,
   "metadata": {},
   "outputs": [],
   "source": [
    "gmt1 = gmt1.key_rows_by('SNP')\n",
    "mt = mt.key_by('SNP')\n",
    "gmt1 = gmt1.annotate_rows(x_w = mt[gmt1.SNP]['x_w'])"
   ]
  },
  {
   "cell_type": "code",
   "execution_count": 72,
   "metadata": {},
   "outputs": [],
   "source": [
    "gmt_test = gmt1.annotate_entries(x_w_ent = gmt1.x_w)\n",
    "gmt_test = gmt_test.annotate_rows(Q_j = hl.agg.sum(gmt_test.w*(gmt_test.meta_beta-gmt_test.x_w_ent)**2))"
   ]
  },
  {
   "cell_type": "code",
   "execution_count": 73,
   "metadata": {},
   "outputs": [],
   "source": [
    "ht = gmt_test.rows().select('Q_j')"
   ]
  },
  {
   "cell_type": "code",
   "execution_count": 74,
   "metadata": {},
   "outputs": [
    {
     "name": "stderr",
     "output_type": "stream",
     "text": [
      "2018-12-14 14:06:06 Hail: INFO: Ordering unsorted dataset with network shuffle\n",
      "2018-12-14 14:06:35 Hail: INFO: Ordering unsorted dataset with network shuffle\n"
     ]
    }
   ],
   "source": [
    "Q = ht.Q_j.take(10891720)"
   ]
  },
  {
   "cell_type": "code",
   "execution_count": 75,
   "metadata": {
    "scrolled": false
   },
   "outputs": [
    {
     "data": {
      "text/plain": [
       "Text(0.5,1,'title')"
      ]
     },
     "execution_count": 75,
     "metadata": {},
     "output_type": "execute_result"
    },
    {
     "data": {
      "image/png": "[encoded data removed]",
      "text/plain": [
       "<Figure size 432x288 with 1 Axes>"
      ]
     },
     "metadata": {
      "needs_background": "light"
     },
     "output_type": "display_data"
    }
   ],
   "source": [
    "plt.hist(Q,20,density=True)\n",
    "plt.title('title')"
   ]
  },
  {
   "cell_type": "code",
   "execution_count": 104,
   "metadata": {
    "scrolled": true
   },
   "outputs": [
    {
     "data": {
      "image/png": "[encoded data removed]",
      "text/plain": [
       "<Figure size 432x288 with 1 Axes>"
      ]
     },
     "metadata": {
      "needs_background": "light"
     },
     "output_type": "display_data"
    }
   ],
   "source": [
    "fig, ax = plt.subplots(1,1)\n",
    "df=1.5\n",
    "# x = np.linspace(stats.chi2.ppf(0.0001, df),stats.chi2.ppf(0.9999, df), 1000)\n",
    "# ax.plot(x, stats.chi2.pdf(x, df),\n",
    "#         'r-', lw=5, alpha=0.6, label='chi2 pdf')\n",
    "hist = ax.hist(Q,20,density=False)\n"
   ]
  },
  {
   "cell_type": "code",
   "execution_count": 151,
   "metadata": {
    "scrolled": false
   },
   "outputs": [
    {
     "data": {
      "image/png": "[encoded data removed]",
      "text/plain": [
       "<Figure size 432x288 with 1 Axes>"
      ]
     },
     "metadata": {
      "needs_background": "light"
     },
     "output_type": "display_data"
    }
   ],
   "source": [
    "x = (hist[1][1:] + hist[1][:-1]) / 2\n",
    "p1 = plt.bar(x,2*x)\n",
    "plt.show()\n",
    "# ax.show()"
   ]
  },
  {
   "cell_type": "code",
   "execution_count": 153,
   "metadata": {
    "scrolled": true
   },
   "outputs": [
    {
     "name": "stderr",
     "output_type": "stream",
     "text": [
      "2018-12-14 14:37:29 Hail: INFO: Ordering unsorted dataset with network shuffle\n",
      "2018-12-14 14:37:57 Hail: INFO: Ordering unsorted dataset with network shuffle\n",
      "2018-12-14 14:39:25 Hail: INFO: while writing:\n",
      "    gs://nbaya/split/cochrans_q.50_batch_1_split.tsv.bgz\n",
      "  merge time: 4.292s\n"
     ]
    }
   ],
   "source": [
    "ht.export('gs://nbaya/split/cochrans_q.'+phen+'_batch_'+batch+'_split.tsv.bgz')"
   ]
  },
  {
   "cell_type": "code",
   "execution_count": 152,
   "metadata": {},
   "outputs": [
    {
     "data": {
      "text/plain": [
       "<BarContainer object of 5 artists>"
      ]
     },
     "execution_count": 152,
     "metadata": {},
     "output_type": "execute_result"
    },
    {
     "data": {
      "image/png": "[encoded data removed]",
      "text/plain": [
       "<Figure size 432x288 with 1 Axes>"
      ]
     },
     "metadata": {
      "needs_background": "light"
     },
     "output_type": "display_data"
    }
   ],
   "source": [
    "N = 5\n",
    "menMeans = (20, 35, 30, 35, 27)\n",
    "womenMeans = (25, 32, 34, 20, 25)\n",
    "menStd = (2, 3, 4, 1, 2)\n",
    "womenStd = (3, 5, 2, 3, 3)\n",
    "ind = np.arange(N)    # the x locations for the groups\n",
    "width = 0.35       # the width of the bars: can also be len(x) sequence\n",
    "\n",
    "p1 = plt.bar(ind, menMeans, width, yerr=menStd)\n",
    "p2 = plt.bar(ind, womenMeans, width,\n",
    "             bottom=menMeans, yerr=womenStd)\n",
    "\n",
    "plt.ylabel('Scores')\n",
    "plt.title('Scores by group and gender')\n",
    "plt.xticks(ind, ('G1', 'G2', 'G3', 'G4', 'G5'))\n",
    "plt.yticks(np.arange(0, 81, 10))\n",
    "plt.legend((p1[0], p2[0]), ('Men', 'Women'))\n",
    "\n",
    "p1"
   ]
  }
 ],
 "metadata": {
  "kernelspec": {
   "display_name": "Hail",
   "language": "python",
   "name": "hail"
  },
  "language_info": {
   "codemirror_mode": {
    "name": "ipython",
    "version": 3
   },
   "file_extension": ".py",
   "mimetype": "text/x-python",
   "name": "python",
   "nbconvert_exporter": "python",
   "pygments_lexer": "ipython3",
   "version": "3.6.4"
  }
 },
 "nbformat": 4,
 "nbformat_minor": 2
}