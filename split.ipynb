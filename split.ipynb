{
 "cells": [
  {
   "cell_type": "markdown",
   "metadata": {},
   "source": [
    "# Do GWAS on random split"
   ]
  },
  {
   "cell_type": "markdown",
   "metadata": {},
   "source": [
    "## Part 1"
   ]
  },
  {
   "cell_type": "markdown",
   "metadata": {},
   "source": [
    "Import packages, create HailContext"
   ]
  },
  {
   "cell_type": "code",
   "execution_count": null,
   "metadata": {},
   "outputs": [],
   "source": [
    "import numpy as np\n",
    "import random\n",
    "from hail import *\n",
    "hc = HailContext()"
   ]
  },
  {
   "cell_type": "markdown",
   "metadata": {},
   "source": [
    "### OPTION 1\n",
    "Read in key table and vds of all variants. Filter by key table."
   ]
  },
  {
   "cell_type": "code",
   "execution_count": null,
   "metadata": {},
   "outputs": [],
   "source": [
    "# vds_all = hc.read('gs://phenotype_31063/hail/0.1/ukb31063.imputed.qc.vds')\n",
    "# kt = hc.read_table('gs://ukb31063-mega-gwas/ldsc/ld_ref_panel/hm3.r3.b37.auto_bi_af.ukbb_gwas_qcpos.no_mhc.kt')\n",
    "# vds = vds.filter_variants_table(kt)"
   ]
  },
  {
   "cell_type": "markdown",
   "metadata": {},
   "source": [
    "### OPTION 2\n",
    "Read in pre-filtered vds."
   ]
  },
  {
   "cell_type": "code",
   "execution_count": null,
   "metadata": {
    "scrolled": true
   },
   "outputs": [],
   "source": [
    "vds = hc.read('gs://nbaya/ukb31063.hm3_variants.gwas_samples.vds')"
   ]
  },
  {
   "cell_type": "markdown",
   "metadata": {},
   "source": [
    "## Part 2"
   ]
  },
  {
   "cell_type": "markdown",
   "metadata": {},
   "source": [
    "Select only the columns for user ID and height phenotype (code: 50) from the key table."
   ]
  },
  {
   "cell_type": "code",
   "execution_count": null,
   "metadata": {},
   "outputs": [],
   "source": [
    "kt_both_sexes = hc.import_table('gs://phenotype_31063/ukb31063.phesant_phenotypes.both_sexes.tsv.bgz', types = {'\"50\"': TFloat()}, missing = \"\")\n",
    "kt_both_sexes = kt_both_sexes.select(['\"userId\"','\"50\"'])\n",
    "kt_both_sexes = kt_both_sexes.rename({ '\"userId\"': 's', '\"50\"': 'height'})\n",
    "kt_both_sexes = kt_both_sexes.key_by('s')"
   ]
  },
  {
   "cell_type": "markdown",
   "metadata": {},
   "source": [
    "Write out the filtered key table."
   ]
  },
  {
   "cell_type": "code",
   "execution_count": 14,
   "metadata": {},
   "outputs": [],
   "source": [
    "kt_both_sexes.write(\"gs://nbaya/split/height.kt\", overwrite = True)"
   ]
  },
  {
   "cell_type": "markdown",
   "metadata": {},
   "source": [
    "Read the filtered key table"
   ]
  },
  {
   "cell_type": "code",
   "execution_count": 16,
   "metadata": {},
   "outputs": [],
   "source": [
    "kt_height = hc.read_table(\"gs://nbaya/split/height.kt\")"
   ]
  },
  {
   "cell_type": "markdown",
   "metadata": {},
   "source": [
    "Read covariates"
   ]
  },
  {
   "cell_type": "code",
   "execution_count": 19,
   "metadata": {},
   "outputs": [],
   "source": [
    "cov = hc.read_table(\"gs://phenotype_31063/hail/0.1/ukb31063.gwas_covariates.both_sexes.kt\")"
   ]
  },
  {
   "cell_type": "markdown",
   "metadata": {},
   "source": [
    "Annotate vds with covariates"
   ]
  },
  {
   "cell_type": "code",
   "execution_count": 26,
   "metadata": {},
   "outputs": [],
   "source": [
    "vds = vds.annotate_samples_table(cov, root = 'sa.covariates')\n",
    "pprint(vds.sample_schema)"
   ]
  },
  {
   "cell_type": "markdown",
   "metadata": {},
   "source": [
    "Annotate vds with height phenotype"
   ]
  },
  {
   "cell_type": "code",
   "execution_count": 28,
   "metadata": {},
   "outputs": [],
   "source": [
    "vds = vds.annotate_samples_table(kt_height, root = 'sa.height')\n",
    "pprint(vds.sample_schema)"
   ]
  },
  {
   "cell_type": "markdown",
   "metadata": {},
   "source": [
    "Define covariates list"
   ]
  },
  {
   "cell_type": "code",
   "execution_count": null,
   "metadata": {},
   "outputs": [],
   "source": [
    "cov_list = ['sa.covariates.isFemale',\n",
    "           'sa.covariates.age',\n",
    "           'sa.covariates.age_squared',\n",
    "           'sa.covariates.age_isFemale',\n",
    "           'sa.covariates.age_squared_isFemale'] + \\\n",
    "['sa.covariates.PC{:}'.format(i) for i in xrange(1,21)]"
   ]
  },
  {
   "cell_type": "markdown",
   "metadata": {},
   "source": [
    "Split vds randomly into two equally sized groups."
   ]
  },
  {
   "cell_type": "code",
   "execution_count": 36,
   "metadata": {},
   "outputs": [],
   "source": [
    "all_ID = vds.sample_ids    # list of all sample IDs\n",
    "all_i = np.arange(len(all_ID))  # array of all indices\n",
    "random.shuffle(all_i)  # randomly shuffle all indices\n",
    "\n",
    "vds1_i = all_i[:len(all_i)/2]   # take first half of randomly shuffled indices\n",
    "vds2_i = all_i[len(all_i)/2:]   # take second half of randomly shuffled indices\n",
    "\n",
    "vds1_ID = [all_ID[i] for i in vds1_i]  # list of sample IDs for first half\n",
    "vds2_ID = [all_ID[i] for i in vds2_i]  # list of sample IDs for first half"
   ]
  },
  {
   "cell_type": "code",
   "execution_count": 37,
   "metadata": {},
   "outputs": [],
   "source": [
    "vds1 = vds.filter_samples_list(vds1_ID)\n",
    "vds2 = vds.filter_samples_list(vds2_ID)"
   ]
  },
  {
   "cell_type": "markdown",
   "metadata": {},
   "source": [
    "Run linear regression on each group separately"
   ]
  },
  {
   "cell_type": "code",
   "execution_count": null,
   "metadata": {
    "scrolled": true
   },
   "outputs": [],
   "source": [
    "vds1_result = vds1.linreg3(ys = ['sa.height'], covariates=cov_list, root = 'va.linreg', use_dosages = True)"
   ]
  },
  {
   "cell_type": "code",
   "execution_count": null,
   "metadata": {
    "scrolled": true
   },
   "outputs": [],
   "source": [
    "vds2_result = vds2.linreg3(ys = ['sa.height'], covariates=cov_list, root = 'va.linreg', use_dosages = True)"
   ]
  },
  {
   "cell_type": "code",
   "execution_count": null,
   "metadata": {
    "scrolled": false
   },
   "outputs": [],
   "source": [
    "vds1_result.variants_table().export('gs://nbaya/split/vds1.tsv.bgz')"
   ]
  },
  {
   "cell_type": "code",
   "execution_count": null,
   "metadata": {
    "scrolled": true
   },
   "outputs": [],
   "source": [
    "vds2_result.variants_table().export('gs://nbaya/split/vds2.tsv.bgz')"
   ]
  }
 ],
 "metadata": {
  "kernelspec": {
   "display_name": "Python 3",
   "language": "python",
   "name": "python3"
  },
  "language_info": {
   "codemirror_mode": {
    "name": "ipython",
    "version": 3
   },
   "file_extension": ".py",
   "mimetype": "text/x-python",
   "name": "python",
   "nbconvert_exporter": "python",
   "pygments_lexer": "ipython3",
   "version": "3.6.5"
  }
 },
 "nbformat": 4,
 "nbformat_minor": 2
}
